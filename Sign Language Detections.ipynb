{
 "cells": [
  {
   "cell_type": "markdown",
   "id": "d857d349-b4c8-4b56-b2e8-4e069494d1ae",
   "metadata": {},
   "source": [
    "# Import Dependencies.\n",
    "```\n",
    "cv2 - opencv\n",
    "os - for maintaining files and folders.\n",
    "time - To deplay camera after we take a photo.\n",
    "uuid - To name the images.\n",
    "\n",
    "```"
   ]
  },
  {
   "cell_type": "code",
   "execution_count": 1,
   "id": "2816b1af-d61c-4267-8043-d2019b1cfac7",
   "metadata": {},
   "outputs": [],
   "source": [
    "import cv2\n",
    "import os \n",
    "import time\n",
    "import uuid"
   ]
  },
  {
   "cell_type": "code",
   "execution_count": 3,
   "id": "f57aed6a-7b03-4d89-863f-b4ded45e39e2",
   "metadata": {},
   "outputs": [],
   "source": [
    "IMAGES_PATH = \"Tensorflow/workspace/images/collectedimages\""
   ]
  },
  {
   "cell_type": "markdown",
   "id": "a9e0c554-637c-4295-9a33-b81cd9958ac5",
   "metadata": {},
   "source": [
    "# Creating Labels , and variable to hold the number of images."
   ]
  },
  {
   "cell_type": "code",
   "execution_count": 4,
   "id": "a4399f21-703d-4ee4-9223-28232060fd4c",
   "metadata": {},
   "outputs": [],
   "source": [
    "labels = ['hello' , 'thanks', 'yes', 'no','iloveyou']\n",
    "number_imgs = 15"
   ]
  },
  {
   "cell_type": "markdown",
   "id": "d94d138f-084d-4c9b-916d-b310a3c395e9",
   "metadata": {},
   "source": [
    "# Code to collect our images."
   ]
  },
  {
   "cell_type": "code",
   "execution_count": 6,
   "id": "9fc5f720-be45-4b62-8e79-354c7de378e0",
   "metadata": {},
   "outputs": [
    {
     "name": "stdout",
     "output_type": "stream",
     "text": [
      "Collectiog Images for hello\n",
      "Collectiog Images for thanks\n",
      "Collectiog Images for yes\n",
      "Collectiog Images for no\n",
      "Collectiog Images for iloveyou\n"
     ]
    }
   ],
   "source": [
    "# looping through each label in the array.\n",
    "for label in labels:\n",
    "    # Create directory for each label.\n",
    "    !mkdir {'Tensorflow\\workspace\\images\\collectedimages\\\\'+label}\n",
    "    # Read the video\n",
    "    cap = cv2.VideoCapture(0)\n",
    "    print(f\"Collectiog Images for {label}\")\n",
    "    # It will give some time before the next label.\n",
    "    time.sleep(5)\n",
    "    # loop through the number of number of images we want to collect.\n",
    "    for imgnum in range(number_imgs):\n",
    "        ret , frame = cap.read()\n",
    "        # saving the images in this directory\n",
    "        imagename = os.path.join(IMAGES_PATH , label , label+\".\"+f\"{str(uuid.uuid1())}.jpg\")\n",
    "        cv2.imwrite(imagename , frame)\n",
    "        cv2.imshow(\"frame\",frame)\n",
    "        # it will give us time to get into another pose for the same label.\n",
    "        time.sleep(2)\n",
    "        \n",
    "        if cv2.waitKey(1) & 0xFF == ord('q'):\n",
    "            break\n",
    "    cap.release()"
   ]
  },
  {
   "cell_type": "code",
   "execution_count": null,
   "id": "8ee78377-8776-41ba-82f5-71f44cb6556a",
   "metadata": {},
   "outputs": [],
   "source": []
  }
 ],
 "metadata": {
  "kernelspec": {
   "display_name": "tfod2_kernel",
   "language": "python",
   "name": "tfod2_kernel"
  },
  "language_info": {
   "codemirror_mode": {
    "name": "ipython",
    "version": 3
   },
   "file_extension": ".py",
   "mimetype": "text/x-python",
   "name": "python",
   "nbconvert_exporter": "python",
   "pygments_lexer": "ipython3",
   "version": "3.9.16"
  }
 },
 "nbformat": 4,
 "nbformat_minor": 5
}
